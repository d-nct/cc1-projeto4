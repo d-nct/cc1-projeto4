{
 "cells": [
  {
   "cell_type": "markdown",
   "metadata": {},
   "source": [
    "![CC-BY-SA](https://mirrors.creativecommons.org/presskit/buttons/88x31/svg/by-sa.svg)\n",
    "\n",
    "\n",
    "This notebook was created by [Bernardo Freitas Paulo da Costa](http://www.im.ufrj.br/bernardofpc),\n",
    "and Pedro Angelo Medeiros Fonini\n",
    "and is licensed under Creative Commons BY-SA."
   ]
  },
  {
   "cell_type": "markdown",
   "metadata": {},
   "source": [
    "Antes de enviar este Teste, verifique que tudo está funcionando como esperado.\n",
    "Por exemplo, **rode o código inteiro, do zero**.\n",
    "Para isso, vá no menu, escolha _Kernel_, depois _Restart & Run All_.\n",
    "\n",
    "Verifique, também, que você respondeu todas as questões:\n",
    "* as questões de código têm `YOUR CODE HERE` (e você pode apagar o `raise NotImplemented` ao incluir sua resposta)\n",
    "* as questões discursivas têm \"YOUR ANSWER HERE\"."
   ]
  },
  {
   "cell_type": "markdown",
   "metadata": {},
   "source": [
    "---"
   ]
  },
  {
   "cell_type": "code",
   "execution_count": null,
   "metadata": {
    "deletable": false,
    "editable": false,
    "nbgrader": {
     "cell_type": "code",
     "checksum": "2c63c7ea92b734214377c1d2cf20194c",
     "grade": false,
     "grade_id": "cell-f1017e654035d0af",
     "locked": true,
     "schema_version": 3,
     "solution": false
    }
   },
   "outputs": [],
   "source": [
    "import numpy as np\n",
    "import matplotlib.pyplot as plt"
   ]
  },
  {
   "cell_type": "code",
   "execution_count": null,
   "metadata": {
    "deletable": false,
    "editable": false,
    "nbgrader": {
     "cell_type": "code",
     "checksum": "0f7a5cc5ee240dd81e318662a3c7b908",
     "grade": false,
     "grade_id": "cell-301e55c25c0e1262",
     "locked": true,
     "schema_version": 3,
     "solution": false
    }
   },
   "outputs": [],
   "source": [
    "def veryclose(v1,v2):\n",
    "    return np.allclose(v1, v2, atol=1e-13, rtol=1e-13)"
   ]
  },
  {
   "cell_type": "code",
   "execution_count": null,
   "metadata": {
    "deletable": false,
    "nbgrader": {
     "cell_type": "code",
     "checksum": "1a5a5caeda6ca93bdeff6eb3f30bfd0f",
     "grade": false,
     "grade_id": "cell-53850929017d728c",
     "locked": false,
     "schema_version": 3,
     "solution": true
    }
   },
   "outputs": [],
   "source": [
    "def lagrange(xs, ys):\n",
    "    assert len(xs) == len(ys)\n",
    "    # YOUR CODE HERE\n",
    "    raise NotImplementedError()"
   ]
  },
  {
   "cell_type": "markdown",
   "metadata": {
    "deletable": false,
    "editable": false,
    "nbgrader": {
     "cell_type": "markdown",
     "checksum": "c94b05ef2f2ace8b5eb720e42d94b5e0",
     "grade": false,
     "grade_id": "cell-d9ccc9ece583b04b",
     "locked": true,
     "schema_version": 3,
     "solution": false,
     "task": false
    }
   },
   "source": [
    "# Parte 1: Interpolação e Derivação\n",
    "\n",
    "## Questão 1: Derivando a interpolação\n",
    "\n",
    "Escreva uma função que, dados pontos $(x_i, y_i)$,\n",
    "retorna os coeficientes da **derivada** do polinômio interpolador de Lagrange."
   ]
  },
  {
   "cell_type": "code",
   "execution_count": null,
   "metadata": {
    "deletable": false,
    "nbgrader": {
     "cell_type": "code",
     "checksum": "04109dcd40051ac0fcb58ccfb4052866",
     "grade": false,
     "grade_id": "cell-3a32d6699e64c7c7",
     "locked": false,
     "schema_version": 3,
     "solution": true
    }
   },
   "outputs": [],
   "source": [
    "def lagrange_coefs_linha(xs, ys):\n",
    "    assert len(xs) == len(ys)\n",
    "    # YOUR CODE HERE\n",
    "    raise NotImplementedError()"
   ]
  },
  {
   "cell_type": "code",
   "execution_count": null,
   "metadata": {
    "deletable": false,
    "editable": false,
    "nbgrader": {
     "cell_type": "code",
     "checksum": "4af6ac3cb2e4b5692b56e8181e7f5f3b",
     "grade": true,
     "grade_id": "cell-2064385cebf54654",
     "locked": true,
     "points": 1,
     "schema_version": 3,
     "solution": false
    }
   },
   "outputs": [],
   "source": [
    "assert veryclose(lagrange_coefs_linha([0,7], [4,6]), [2/7])"
   ]
  },
  {
   "cell_type": "code",
   "execution_count": null,
   "metadata": {
    "deletable": false,
    "editable": false,
    "nbgrader": {
     "cell_type": "code",
     "checksum": "536bdc813a395e08fbed0fb1e0a4b655",
     "grade": true,
     "grade_id": "cell-e2f45275c1c8b937",
     "locked": true,
     "points": 1,
     "schema_version": 3,
     "solution": false
    }
   },
   "outputs": [],
   "source": [
    "assert veryclose(lagrange_coefs_linha([0,1,2], [3,4,6]), [0.5, 1.])"
   ]
  },
  {
   "cell_type": "code",
   "execution_count": null,
   "metadata": {
    "deletable": false,
    "editable": false,
    "nbgrader": {
     "cell_type": "code",
     "checksum": "895450ac14b2090e9058c074c600970d",
     "grade": true,
     "grade_id": "cell-1a1692de98986fff",
     "locked": true,
     "points": 1,
     "schema_version": 3,
     "solution": false
    }
   },
   "outputs": [],
   "source": [
    "assert veryclose(lagrange_coefs_linha([0,1,2,-1], [3,4,6,7]), [-5/6, 5, -2])"
   ]
  },
  {
   "cell_type": "code",
   "execution_count": null,
   "metadata": {
    "deletable": false,
    "editable": false,
    "nbgrader": {
     "cell_type": "code",
     "checksum": "f89e5c7c7c381641f26bb41ada552a38",
     "grade": true,
     "grade_id": "cell-a6473543c3af7ab4",
     "locked": true,
     "points": 1,
     "schema_version": 3,
     "solution": false
    }
   },
   "outputs": [],
   "source": [
    "assert veryclose(lagrange_coefs_linha([4,5,9,10], [0,3,0,3]), [35, -10.5, 0.75])"
   ]
  },
  {
   "cell_type": "markdown",
   "metadata": {
    "deletable": false,
    "editable": false,
    "nbgrader": {
     "cell_type": "markdown",
     "checksum": "d4570d77a75826f7c663dcd4b60529fb",
     "grade": false,
     "grade_id": "cell-44542e5a5b12fdd9",
     "locked": true,
     "schema_version": 3,
     "solution": false,
     "task": false
    }
   },
   "source": [
    "Agora, use a `lagrande_coefs_linha` para escrever a função `lagrange_linha(xs,ys)`,\n",
    "que retorna uma função que calcula este polinômio."
   ]
  },
  {
   "cell_type": "code",
   "execution_count": null,
   "metadata": {
    "deletable": false,
    "nbgrader": {
     "cell_type": "code",
     "checksum": "83e641b1d237558087f7a8c52e072f2a",
     "grade": false,
     "grade_id": "cell-2e85b2f87e3f19b5",
     "locked": false,
     "schema_version": 3,
     "solution": true
    }
   },
   "outputs": [],
   "source": [
    "def lagrange_linha(xs, ys):\n",
    "    # YOUR CODE HERE\n",
    "    raise NotImplementedError()"
   ]
  },
  {
   "cell_type": "code",
   "execution_count": null,
   "metadata": {
    "deletable": false,
    "editable": false,
    "nbgrader": {
     "cell_type": "code",
     "checksum": "263a75d2343f6ca037302f8cfdf8e6d2",
     "grade": true,
     "grade_id": "cell-b3d70fc87bcece02",
     "locked": true,
     "points": 1,
     "schema_version": 3,
     "solution": false
    }
   },
   "outputs": [],
   "source": [
    "f = lagrange_linha([0,1,2], [3,2,3])\n",
    "assert veryclose(f([0,1,2]), [-2, 0, 2])"
   ]
  },
  {
   "cell_type": "code",
   "execution_count": null,
   "metadata": {
    "deletable": false,
    "editable": false,
    "nbgrader": {
     "cell_type": "code",
     "checksum": "398ad4d5e124e9c0e3d7cdac2af6e0b3",
     "grade": true,
     "grade_id": "cell-308629e44ccc6379",
     "locked": true,
     "points": 1,
     "schema_version": 3,
     "solution": false
    }
   },
   "outputs": [],
   "source": [
    "f = lagrange_linha([3,4,5,6,7], [1,2,1,4,3])\n",
    "assert veryclose(f([3,4,5,6,7])*3, [45/2, -13/2, 7/2, 21/2, -55/2])"
   ]
  },
  {
   "cell_type": "markdown",
   "metadata": {
    "deletable": false,
    "editable": false,
    "nbgrader": {
     "cell_type": "markdown",
     "checksum": "996cbcc9f0e5247b90798527c9087253",
     "grade": false,
     "grade_id": "cell-2a4df7009d1fe46b",
     "locked": true,
     "schema_version": 3,
     "solution": false,
     "task": false
    }
   },
   "source": [
    "## Questão 2: Gráficos\n",
    "\n",
    "Faça um gráfico do **erro absoluto** cometido pelos polinômios interpoladores de grau 4 e 9\n",
    "para a função seno no intervalo $[-1,4]$."
   ]
  },
  {
   "cell_type": "code",
   "execution_count": null,
   "metadata": {
    "deletable": false,
    "nbgrader": {
     "cell_type": "code",
     "checksum": "629f9d3f661b1498339073c6f876766e",
     "grade": true,
     "grade_id": "cell-daf55da8b3da0ece",
     "locked": false,
     "points": 0,
     "schema_version": 3,
     "solution": true
    }
   },
   "outputs": [],
   "source": [
    "I = [-1, 4]\n",
    "ts   = np.linspace(I[0], I[1], num=300)\n",
    "# YOUR CODE HERE\n",
    "raise NotImplementedError()\n",
    "ax = plt.gca()\n",
    "plt.show()"
   ]
  },
  {
   "cell_type": "code",
   "execution_count": null,
   "metadata": {
    "deletable": false,
    "editable": false,
    "nbgrader": {
     "cell_type": "code",
     "checksum": "d7ccb5fee31c0bd133caa6a8ed98c70b",
     "grade": true,
     "grade_id": "cell-a9a3290541b9be90",
     "locked": true,
     "points": 1,
     "schema_version": 3,
     "solution": false
    }
   },
   "outputs": [],
   "source": [
    "assert ax.title.get_text() != \"\"\n",
    "assert len(ax.lines) == 2\n",
    "assert len(ax.legend().texts) == 2"
   ]
  },
  {
   "cell_type": "code",
   "execution_count": null,
   "metadata": {
    "deletable": false,
    "editable": false,
    "nbgrader": {
     "cell_type": "code",
     "checksum": "a06c3328fb1b4bf618de73ba051d5c69",
     "grade": true,
     "grade_id": "cell-078d4f6225002105",
     "locked": true,
     "points": 2,
     "schema_version": 3,
     "solution": false
    }
   },
   "outputs": [],
   "source": [
    "for l in ax.lines:\n",
    "    xdata = l.get_xdata()\n",
    "    ydata = l.get_ydata()\n",
    "\n",
    "    assert min(xdata) == -1\n",
    "    assert max(xdata) ==  4\n",
    "\n",
    "    assert 1e-5 <= max(ydata) <=  0.035\n",
    "    assert min(ydata) >=  0"
   ]
  },
  {
   "cell_type": "code",
   "execution_count": null,
   "metadata": {
    "deletable": false,
    "editable": false,
    "nbgrader": {
     "cell_type": "code",
     "checksum": "5cf09ed0d3826f1edc315167bcf59c83",
     "grade": false,
     "grade_id": "cell-73e8fcb4f2bba37d",
     "locked": true,
     "schema_version": 3,
     "solution": false
    }
   },
   "outputs": [],
   "source": [
    "ax = None"
   ]
  },
  {
   "cell_type": "markdown",
   "metadata": {
    "deletable": false,
    "editable": false,
    "nbgrader": {
     "cell_type": "markdown",
     "checksum": "b901c0299d8625792ae4f3e110be1572",
     "grade": false,
     "grade_id": "cell-4102acf4e9bd21eb",
     "locked": true,
     "schema_version": 3,
     "solution": false,
     "task": false
    }
   },
   "source": [
    "Agora, faça os gráficos dos erros correspondentes às derivadas,\n",
    "ou seja, o quanto a derivada da interpolação está longe da derivada real da função."
   ]
  },
  {
   "cell_type": "code",
   "execution_count": null,
   "metadata": {
    "deletable": false,
    "nbgrader": {
     "cell_type": "code",
     "checksum": "bf2646510fbf4344b9ccd0ae2305e124",
     "grade": false,
     "grade_id": "cell-170d9d055782a56d",
     "locked": false,
     "schema_version": 3,
     "solution": true
    }
   },
   "outputs": [],
   "source": [
    "# YOUR CODE HERE\n",
    "raise NotImplementedError()\n",
    "ax = plt.gca()\n",
    "plt.show()"
   ]
  },
  {
   "cell_type": "code",
   "execution_count": null,
   "metadata": {
    "deletable": false,
    "editable": false,
    "nbgrader": {
     "cell_type": "code",
     "checksum": "8df4ced4c871fe4512a149897b1df484",
     "grade": true,
     "grade_id": "cell-560fdb129b228274",
     "locked": true,
     "points": 1,
     "schema_version": 3,
     "solution": false
    }
   },
   "outputs": [],
   "source": [
    "assert ax.title.get_text() != \"\"\n",
    "assert len(ax.lines) == 2\n",
    "assert len(ax.legend().texts) == 2"
   ]
  },
  {
   "cell_type": "code",
   "execution_count": null,
   "metadata": {
    "deletable": false,
    "editable": false,
    "nbgrader": {
     "cell_type": "code",
     "checksum": "52eb2de018472566fb08fefc8f2c322e",
     "grade": true,
     "grade_id": "cell-a6a0e2b425db3401",
     "locked": true,
     "points": 1,
     "schema_version": 3,
     "solution": false
    }
   },
   "outputs": [],
   "source": [
    "for l in ax.lines:\n",
    "    xdata = l.get_xdata()\n",
    "    ydata = l.get_ydata()\n",
    "\n",
    "    assert min(xdata) == -1\n",
    "    assert max(xdata) ==  4\n",
    "\n",
    "    assert max(ydata) <=  0.25\n",
    "    assert min(ydata) >=  0"
   ]
  },
  {
   "cell_type": "code",
   "execution_count": null,
   "metadata": {
    "deletable": false,
    "editable": false,
    "nbgrader": {
     "cell_type": "code",
     "checksum": "94451d15c18812e12898153af1a0e696",
     "grade": false,
     "grade_id": "cell-4fda661ed29d770a",
     "locked": true,
     "schema_version": 3,
     "solution": false
    }
   },
   "outputs": [],
   "source": [
    "ax = None"
   ]
  },
  {
   "cell_type": "markdown",
   "metadata": {
    "deletable": false,
    "editable": false,
    "nbgrader": {
     "cell_type": "markdown",
     "checksum": "2eb551312b1942fd1615d2bb80b3eee2",
     "grade": false,
     "grade_id": "cell-35a4e2c20961f7e6",
     "locked": true,
     "schema_version": 3,
     "solution": false,
     "task": false
    }
   },
   "source": [
    "Enfim, faça dois gráficos dos erros absolutos para o seno e sua derivada,\n",
    "à esquerda a partir do polinômio interpolador de grau 4, e à direita a partir do de grau 9."
   ]
  },
  {
   "cell_type": "code",
   "execution_count": null,
   "metadata": {
    "deletable": false,
    "nbgrader": {
     "cell_type": "code",
     "checksum": "00372c5dabffd331b1fc0f2ea88a52ec",
     "grade": false,
     "grade_id": "cell-fca661da50aa6997",
     "locked": false,
     "schema_version": 3,
     "solution": true
    }
   },
   "outputs": [],
   "source": [
    "fig, [ax1, ax2] = plt.subplots(ncols=2, figsize=(12,4))\n",
    "\n",
    "# YOUR CODE HERE\n",
    "raise NotImplementedError()\n",
    "plt.show()"
   ]
  },
  {
   "cell_type": "code",
   "execution_count": null,
   "metadata": {
    "deletable": false,
    "editable": false,
    "nbgrader": {
     "cell_type": "code",
     "checksum": "eb6ae50f9eda1e33403e828f288bb19e",
     "grade": true,
     "grade_id": "cell-60b75d4fa6952413",
     "locked": true,
     "points": 1,
     "schema_version": 3,
     "solution": false
    }
   },
   "outputs": [],
   "source": [
    "assert len(ax1.lines) == 2\n",
    "\n",
    "for l in ax1.lines:\n",
    "    xdata = l.get_xdata()\n",
    "    ydata = l.get_ydata()\n",
    "\n",
    "    assert min(xdata) == -1\n",
    "    assert max(xdata) ==  4\n",
    "\n",
    "    assert max(ydata) <=  0.25"
   ]
  },
  {
   "cell_type": "code",
   "execution_count": null,
   "metadata": {
    "deletable": false,
    "editable": false,
    "nbgrader": {
     "cell_type": "code",
     "checksum": "973212d8455def7a1041c701bfd3a96c",
     "grade": true,
     "grade_id": "cell-42196daa797f1c72",
     "locked": true,
     "points": 1,
     "schema_version": 3,
     "solution": false
    }
   },
   "outputs": [],
   "source": [
    "assert len(ax2.lines) == 2\n",
    "\n",
    "for l in ax2.lines:\n",
    "    xdata = l.get_xdata()\n",
    "    ydata = l.get_ydata()\n",
    "\n",
    "    assert min(xdata) == -1\n",
    "    assert max(xdata) ==  4\n",
    "\n",
    "    assert max(ydata) <=  1e-3"
   ]
  },
  {
   "cell_type": "code",
   "execution_count": null,
   "metadata": {
    "deletable": false,
    "editable": false,
    "nbgrader": {
     "cell_type": "code",
     "checksum": "179796bc8180d30bfb5a2499c6de22b1",
     "grade": false,
     "grade_id": "cell-23db673003ecd9d4",
     "locked": true,
     "schema_version": 3,
     "solution": false
    }
   },
   "outputs": [],
   "source": [
    "ax1 = None\n",
    "ax2 = None"
   ]
  },
  {
   "cell_type": "markdown",
   "metadata": {
    "deletable": false,
    "editable": false,
    "nbgrader": {
     "cell_type": "markdown",
     "checksum": "c7d4943dc714e9e5b99f7b6f09c3632f",
     "grade": false,
     "grade_id": "cell-cece3cd106bedaca",
     "locked": true,
     "schema_version": 3,
     "solution": false
    }
   },
   "source": [
    "- O que você observa nestes dois gráficos, quanto ao erro da derivada?\n",
    "- Como esses erros se comparam com os erros de estimativa da função propriamente dita?\n",
    "- Como você explicaria este(s) fenômeno(s)?"
   ]
  },
  {
   "cell_type": "markdown",
   "metadata": {
    "deletable": false,
    "nbgrader": {
     "cell_type": "markdown",
     "checksum": "4ec6ca18d93f46b1bda8ba0af9b83f7b",
     "grade": true,
     "grade_id": "cell-1b3f9430479f4aea",
     "locked": false,
     "points": 3,
     "schema_version": 3,
     "solution": true
    }
   },
   "source": [
    "YOUR ANSWER HERE"
   ]
  },
  {
   "cell_type": "markdown",
   "metadata": {
    "deletable": false,
    "editable": false,
    "nbgrader": {
     "cell_type": "markdown",
     "checksum": "f9e36ca97c9b7fa77bedf518a24a8a20",
     "grade": false,
     "grade_id": "cell-b6524c579298ceae",
     "locked": true,
     "schema_version": 3,
     "solution": false,
     "task": false
    }
   },
   "source": [
    "## Questão 3: Interpolando a derivada\n",
    "\n",
    "Escreva uma função que, dados os pontos $(x_i, y_i)$,\n",
    "retorna o polinômio interpolador correspondente à estimativa da derivada central gerada por estes pontos.\n",
    "(você pode supor que as abscissas $x_i$ estão em ordem).\n",
    "\n",
    "Dica: quais são as abscissas das derivadas centrais?"
   ]
  },
  {
   "cell_type": "code",
   "execution_count": null,
   "metadata": {
    "deletable": false,
    "nbgrader": {
     "cell_type": "code",
     "checksum": "4e1cfc7ecddd92b7d6bc6ffdfe26b1e2",
     "grade": false,
     "grade_id": "cell-2aad0c19440b5e2c",
     "locked": false,
     "schema_version": 3,
     "solution": true
    }
   },
   "outputs": [],
   "source": [
    "def lagrange_central(xs, ys):\n",
    "    assert len(xs) == len(ys)\n",
    "    # YOUR CODE HERE\n",
    "    raise NotImplementedError()"
   ]
  },
  {
   "cell_type": "code",
   "execution_count": null,
   "metadata": {
    "deletable": false,
    "editable": false,
    "nbgrader": {
     "cell_type": "code",
     "checksum": "4801be5727567b39b098a2448f8bb120",
     "grade": true,
     "grade_id": "cell-599c5e550f924ae4",
     "locked": true,
     "points": 2,
     "schema_version": 3,
     "solution": false
    }
   },
   "outputs": [],
   "source": [
    "f = lagrange_central([0,1,2], [3,2,3])\n",
    "assert veryclose(f([0,1,2]), [-2, 0 , 2])"
   ]
  },
  {
   "cell_type": "code",
   "execution_count": null,
   "metadata": {
    "deletable": false,
    "editable": false,
    "nbgrader": {
     "cell_type": "code",
     "checksum": "663698c82fe8a4bc9e37f375452e0486",
     "grade": true,
     "grade_id": "cell-556845aaaa91bc13",
     "locked": true,
     "points": 2,
     "schema_version": 3,
     "solution": false
    }
   },
   "outputs": [],
   "source": [
    "f = lagrange_central([0,1,2,3], [3,2,3,2])\n",
    "assert np.allclose(f([.3, 1.5, 2.8]), [-1.88, 1, -2.38])"
   ]
  },
  {
   "cell_type": "markdown",
   "metadata": {
    "deletable": false,
    "editable": false,
    "nbgrader": {
     "cell_type": "markdown",
     "checksum": "eb0d6221a600e392b59e1a564611608f",
     "grade": false,
     "grade_id": "cell-993e51d27976081c",
     "locked": true,
     "schema_version": 3,
     "solution": false,
     "task": false
    }
   },
   "source": [
    "## Questão 4: Mais gráficos\n",
    "\n",
    "Agora, faça os gráficos de erros absolutos para a derivada, usando polinômios de grau 4 e 9, novamente."
   ]
  },
  {
   "cell_type": "code",
   "execution_count": null,
   "metadata": {
    "deletable": false,
    "nbgrader": {
     "cell_type": "code",
     "checksum": "06cdd410b9c4c5e849bd95c2b62dee95",
     "grade": false,
     "grade_id": "cell-151cb87420c1ab0c",
     "locked": false,
     "schema_version": 3,
     "solution": true
    }
   },
   "outputs": [],
   "source": [
    "# YOUR CODE HERE\n",
    "raise NotImplementedError()\n",
    "ax = plt.gca()\n",
    "plt.show()"
   ]
  },
  {
   "cell_type": "code",
   "execution_count": null,
   "metadata": {
    "deletable": false,
    "editable": false,
    "nbgrader": {
     "cell_type": "code",
     "checksum": "b4069792472e58fdda021370a938bf77",
     "grade": true,
     "grade_id": "cell-11639a33fb4f31e1",
     "locked": true,
     "points": 1,
     "schema_version": 3,
     "solution": false
    }
   },
   "outputs": [],
   "source": [
    "assert ax.title.get_text() != \"\"\n",
    "assert len(ax.lines) == 2\n",
    "assert len(ax.legend().texts) == 2"
   ]
  },
  {
   "cell_type": "code",
   "execution_count": null,
   "metadata": {
    "deletable": false,
    "editable": false,
    "nbgrader": {
     "cell_type": "code",
     "checksum": "70b43e060be3f94bb90bcf4111e9e0cb",
     "grade": true,
     "grade_id": "cell-f0f84feedcd6ec19",
     "locked": true,
     "points": 1,
     "schema_version": 3,
     "solution": false
    }
   },
   "outputs": [],
   "source": [
    "for l in ax.lines:\n",
    "    xdata = l.get_xdata()\n",
    "    ydata = l.get_ydata()\n",
    "\n",
    "    assert min(xdata) == -1\n",
    "    assert max(xdata) ==  4\n",
    "\n",
    "    assert max(ydata) <=  0.35\n",
    "    assert min(ydata) >=  0"
   ]
  },
  {
   "cell_type": "code",
   "execution_count": null,
   "metadata": {
    "deletable": false,
    "editable": false,
    "nbgrader": {
     "cell_type": "code",
     "checksum": "99612c08e917ad247d3435f266d20378",
     "grade": false,
     "grade_id": "cell-159869742d9c0dc0",
     "locked": true,
     "schema_version": 3,
     "solution": false
    }
   },
   "outputs": [],
   "source": [
    "ax = None"
   ]
  },
  {
   "cell_type": "markdown",
   "metadata": {
    "deletable": false,
    "editable": false,
    "nbgrader": {
     "cell_type": "markdown",
     "checksum": "c23287a39d30f7876a3e6fd3dcf35197",
     "grade": false,
     "grade_id": "cell-bf2b4323c6d9d4b9",
     "locked": true,
     "schema_version": 3,
     "solution": false,
     "task": false
    }
   },
   "source": [
    "Novamente, faça lado a lado o gráfico para graus 4 e 9,\n",
    "só que agora para o erro cometido pelos dois métodos diferentes de estimativa da derivada."
   ]
  },
  {
   "cell_type": "code",
   "execution_count": null,
   "metadata": {
    "deletable": false,
    "nbgrader": {
     "cell_type": "code",
     "checksum": "76642bd2b17effb0bea301797564065d",
     "grade": false,
     "grade_id": "cell-e7dfb9b8b4aa2c88",
     "locked": false,
     "schema_version": 3,
     "solution": true
    }
   },
   "outputs": [],
   "source": [
    "fig, [ax1, ax2] = plt.subplots(ncols=2, figsize=(12,4))\n",
    "\n",
    "# YOUR CODE HERE\n",
    "raise NotImplementedError()\n",
    "plt.show()"
   ]
  },
  {
   "cell_type": "code",
   "execution_count": null,
   "metadata": {
    "deletable": false,
    "editable": false,
    "nbgrader": {
     "cell_type": "code",
     "checksum": "79bd4357a884c007becd6d7c2b4dafd0",
     "grade": true,
     "grade_id": "cell-7c380873132d49d1",
     "locked": true,
     "points": 2,
     "schema_version": 3,
     "solution": false
    }
   },
   "outputs": [],
   "source": [
    "assert len(ax1.lines) == 2\n",
    "assert len(ax1.legend().texts) == 2\n",
    "\n",
    "for l in ax1.lines:\n",
    "    xdata = l.get_xdata()\n",
    "    ydata = l.get_ydata()\n",
    "\n",
    "    assert min(xdata) == -1\n",
    "    assert max(xdata) ==  4\n",
    "\n",
    "    assert 0.1 <= max(ydata) <=  0.35\n",
    "    assert min(ydata) >=  0"
   ]
  },
  {
   "cell_type": "code",
   "execution_count": null,
   "metadata": {
    "deletable": false,
    "editable": false,
    "nbgrader": {
     "cell_type": "code",
     "checksum": "2ef33258cee9046ba1a856660b76c9ca",
     "grade": true,
     "grade_id": "cell-410d47b490797b7c",
     "locked": true,
     "points": 2,
     "schema_version": 3,
     "solution": false
    }
   },
   "outputs": [],
   "source": [
    "assert len(ax2.lines) == 2\n",
    "assert len(ax2.legend().texts) == 2\n",
    "\n",
    "for l in ax2.lines:\n",
    "    xdata = l.get_xdata()\n",
    "    ydata = l.get_ydata()\n",
    "\n",
    "    assert min(xdata) == -1\n",
    "    assert max(xdata) ==  4\n",
    "\n",
    "    assert 4e-4 <= max(ydata) <=  0.02\n",
    "    assert min(ydata) >=  0"
   ]
  },
  {
   "cell_type": "code",
   "execution_count": null,
   "metadata": {
    "deletable": false,
    "editable": false,
    "nbgrader": {
     "cell_type": "code",
     "checksum": "e335dd9fd45289af4c6b8dd73336b8e1",
     "grade": false,
     "grade_id": "cell-be4d01019e973721",
     "locked": true,
     "schema_version": 3,
     "solution": false
    }
   },
   "outputs": [],
   "source": [
    "ax1 = None\n",
    "ax2 = None"
   ]
  },
  {
   "cell_type": "markdown",
   "metadata": {
    "deletable": false,
    "editable": false,
    "nbgrader": {
     "cell_type": "markdown",
     "checksum": "0ef128f147d53724e60f1a8448e56e80",
     "grade": false,
     "grade_id": "cell-754fffa90500b231",
     "locked": true,
     "schema_version": 3,
     "solution": false,
     "task": false
    }
   },
   "source": [
    "- Qual método produziu menores erros?\n",
    "- Qual método melhor aproveitou a maior quantidade de pontos disponíveis?\n",
    "\n",
    "Como você explicaria estas conclusões?"
   ]
  },
  {
   "cell_type": "markdown",
   "metadata": {
    "deletable": false,
    "nbgrader": {
     "cell_type": "markdown",
     "checksum": "29155d6c6661e06a55c2de81710083bd",
     "grade": true,
     "grade_id": "cell-862109910b6ff5e6",
     "locked": false,
     "points": 3,
     "schema_version": 3,
     "solution": true
    }
   },
   "source": [
    "YOUR ANSWER HERE"
   ]
  },
  {
   "cell_type": "markdown",
   "metadata": {
    "deletable": false,
    "editable": false,
    "nbgrader": {
     "cell_type": "markdown",
     "checksum": "f43d36d50128c41f4f96f1b9cb1d2cd5",
     "grade": false,
     "grade_id": "cell-92f3fe6726b0fa40",
     "locked": true,
     "schema_version": 3,
     "solution": false,
     "task": false
    }
   },
   "source": [
    "# Parte 2: Integração e regressão\n",
    "\n",
    "Imagine que temos alguns dados $(x_i, z_i)$, e queremos calcular a integral de $f$ no intervalo $I$.\n",
    "Entretanto, os valores $z_i$ não são iguais a $y_i = f(x_i)$, mas contém um ruído $\\varepsilon_i$,\n",
    "que supomos pequeno, mas não nulo.\n",
    "O objetivo desta parte da prova é estudar como os ruídos em $z_i$ se transformam em erros na estimativa da integral."
   ]
  },
  {
   "cell_type": "markdown",
   "metadata": {
    "deletable": false,
    "editable": false,
    "nbgrader": {
     "cell_type": "markdown",
     "checksum": "205b997d4c3052cd1ec4524056cb803e",
     "grade": false,
     "grade_id": "cell-774348ee80c1ed8b",
     "locked": true,
     "schema_version": 3,
     "solution": false,
     "task": false
    }
   },
   "source": [
    "# Questão 5: Simpson\n",
    "\n",
    "Dê abaixo a regra de Simpson para integrar funções dividindo um intervalo em $n$ partes iguais.\n",
    "Este método é suficientemente preciso para ser usado como \"referência\"."
   ]
  },
  {
   "cell_type": "code",
   "execution_count": null,
   "metadata": {
    "deletable": false,
    "nbgrader": {
     "cell_type": "code",
     "checksum": "73b3dacb78d05fb64bdd7401ca9358af",
     "grade": false,
     "grade_id": "cell-e0ced51693d7b29f",
     "locked": false,
     "schema_version": 3,
     "solution": true
    }
   },
   "outputs": [],
   "source": [
    "def simpson(f, a, b, n=1000):\n",
    "    # YOUR CODE HERE\n",
    "    raise NotImplementedError()"
   ]
  },
  {
   "cell_type": "code",
   "execution_count": null,
   "metadata": {
    "deletable": false,
    "editable": false,
    "nbgrader": {
     "cell_type": "code",
     "checksum": "b1e467e8927bc152832a07087ba4d2b2",
     "grade": true,
     "grade_id": "cell-15f383c0f2c6950c",
     "locked": true,
     "points": 1,
     "schema_version": 3,
     "solution": false
    }
   },
   "outputs": [],
   "source": [
    "assert np.isclose(simpson(np.sin, 0, np.pi, n=50), 2)\n",
    "assert np.isclose(simpson(np.sin, 0, np.pi, n=500), 2, atol=1e-12, rtol=1e-12)"
   ]
  },
  {
   "cell_type": "code",
   "execution_count": null,
   "metadata": {
    "deletable": false,
    "editable": false,
    "nbgrader": {
     "cell_type": "code",
     "checksum": "bbe749e2862dbdb9bc87fb58b11a90bc",
     "grade": true,
     "grade_id": "cell-5ed1982a348645a5",
     "locked": true,
     "points": 1,
     "schema_version": 3,
     "solution": false
    }
   },
   "outputs": [],
   "source": [
    "def f(x): return np.exp(x/4) - 0.7*np.sin(2.3*x)\n",
    "assert np.isclose(simpson(f, -4, 10, n=50),   47.3929830436714)\n",
    "assert  veryclose(simpson(f, -4, 10, n=2000), 47.3929830436714)"
   ]
  },
  {
   "cell_type": "markdown",
   "metadata": {
    "deletable": false,
    "editable": false,
    "nbgrader": {
     "cell_type": "markdown",
     "checksum": "4fa722073640951f9e39f7361722159d",
     "grade": false,
     "grade_id": "cell-a93342e278536b70",
     "locked": true,
     "schema_version": 3,
     "solution": false,
     "task": false
    }
   },
   "source": [
    "# Questão 6: Comparando integrais\n",
    "\n",
    "Considere a função $f$ abaixo, e calcule o polinômio interpolador de $f$ nos 21 pontos $(x_i, y_i)$ dados.\n",
    "Use-o para estimar a integral de $f$ no intervalo $[-2,3]$."
   ]
  },
  {
   "cell_type": "code",
   "execution_count": null,
   "metadata": {
    "deletable": false,
    "editable": false,
    "nbgrader": {
     "cell_type": "code",
     "checksum": "be40d41e704d8a53d5cec3617ab75af2",
     "grade": false,
     "grade_id": "cell-6ce3819df544ba5b",
     "locked": true,
     "schema_version": 3,
     "solution": false
    }
   },
   "outputs": [],
   "source": [
    "def f(t):\n",
    "    return np.exp(t/8)*np.sin(2*t) + np.exp(-t/9)*np.cos(np.pi*t)\n",
    "\n",
    "npts = 21\n",
    "xs = np.linspace(-2,3, num=npts)\n",
    "ys = f(xs)"
   ]
  },
  {
   "cell_type": "code",
   "execution_count": null,
   "metadata": {
    "deletable": false,
    "nbgrader": {
     "cell_type": "code",
     "checksum": "55d4595166f885e03cd48bace19f5156",
     "grade": false,
     "grade_id": "cell-687c46785e52e513",
     "locked": false,
     "schema_version": 3,
     "solution": true
    }
   },
   "outputs": [],
   "source": [
    "def poly_int(coefs, a, b):\n",
    "    \"\"\"Calcula a integral do polinômio com coeficientes `coefs` dados em ordem crescente de grau, no intervalo [a,b].\"\"\"\n",
    "    # YOUR CODE HERE\n",
    "    raise NotImplementedError()"
   ]
  },
  {
   "cell_type": "code",
   "execution_count": null,
   "metadata": {
    "deletable": false,
    "nbgrader": {
     "cell_type": "code",
     "checksum": "ec1727a5f97e0bfba53313b0c9483102",
     "grade": false,
     "grade_id": "cell-36f17fff49ec383b",
     "locked": false,
     "schema_version": 3,
     "solution": true
    }
   },
   "outputs": [],
   "source": [
    "### Dê sua resposta na forma I = ...\n",
    "# YOUR CODE HERE\n",
    "raise NotImplementedError()"
   ]
  },
  {
   "cell_type": "code",
   "execution_count": null,
   "metadata": {
    "deletable": false,
    "editable": false,
    "nbgrader": {
     "cell_type": "code",
     "checksum": "f2538eaca11352cab6721fa352a766be",
     "grade": true,
     "grade_id": "cell-bcf23ab333f938fb",
     "locked": true,
     "points": 2,
     "schema_version": 3,
     "solution": false
    }
   },
   "outputs": [],
   "source": [
    "# Teste aqui..."
   ]
  },
  {
   "cell_type": "markdown",
   "metadata": {
    "deletable": false,
    "editable": false,
    "nbgrader": {
     "cell_type": "markdown",
     "checksum": "7fab36ac7b520b72fb9852bd4c683626",
     "grade": false,
     "grade_id": "cell-f271531f795afd9f",
     "locked": true,
     "schema_version": 3,
     "solution": false,
     "task": false
    }
   },
   "source": [
    "Agora, faça o mesmo com os pontos $(x_i, z_i)$, que estão sujeitos a um erro de \"magnitude média\" $0.1$.\n",
    "Qual o erro de integração?"
   ]
  },
  {
   "cell_type": "code",
   "execution_count": null,
   "metadata": {
    "deletable": false,
    "editable": false,
    "nbgrader": {
     "cell_type": "code",
     "checksum": "ff9813f9c1a8bcd8f94178f1f42f7192",
     "grade": false,
     "grade_id": "cell-2e9818b0229f8762",
     "locked": true,
     "schema_version": 3,
     "solution": false
    }
   },
   "outputs": [],
   "source": [
    "np.random.seed(2)\n",
    "A = 0.1\n",
    "zs = ys + np.random.randn(len(ys))*A"
   ]
  },
  {
   "cell_type": "code",
   "execution_count": null,
   "metadata": {
    "deletable": false,
    "nbgrader": {
     "cell_type": "code",
     "checksum": "0fdb5161b9b1f13b0026cf4bb1e641ca",
     "grade": false,
     "grade_id": "cell-680a0b02dff25279",
     "locked": false,
     "schema_version": 3,
     "solution": true
    }
   },
   "outputs": [],
   "source": [
    "### Dê sua resposta na forma Iz = ...\n",
    "# YOUR CODE HERE\n",
    "raise NotImplementedError()"
   ]
  },
  {
   "cell_type": "code",
   "execution_count": null,
   "metadata": {
    "deletable": false,
    "editable": false,
    "nbgrader": {
     "cell_type": "code",
     "checksum": "b5598c35d0f8280de53106360adba3cf",
     "grade": true,
     "grade_id": "cell-c5243ec607befa4a",
     "locked": true,
     "points": 2,
     "schema_version": 3,
     "solution": false
    }
   },
   "outputs": [],
   "source": [
    "# Teste aqui..."
   ]
  },
  {
   "cell_type": "markdown",
   "metadata": {
    "deletable": false,
    "editable": false,
    "nbgrader": {
     "cell_type": "markdown",
     "checksum": "9f8301a567e1c847f32350d4cde80ec0",
     "grade": false,
     "grade_id": "cell-0eab75a42dca41b2",
     "locked": true,
     "schema_version": 3,
     "solution": false,
     "task": false
    }
   },
   "source": [
    "## Questão 7: Comparando com o método de Simpson\n",
    "\n",
    "Quantos intervalos são necessários para que o método de Simpson\n",
    "tenha um erro menor do que usar o polinômio interpolador com os dados **corretos**?"
   ]
  },
  {
   "cell_type": "code",
   "execution_count": null,
   "metadata": {
    "deletable": false,
    "nbgrader": {
     "cell_type": "code",
     "checksum": "f404d06dba504c5c046a896dae9d47d2",
     "grade": false,
     "grade_id": "cell-4f6e3653c2058f03",
     "locked": false,
     "schema_version": 3,
     "solution": true
    }
   },
   "outputs": [],
   "source": [
    "# Dê sua resposta na forma n_int = ...\n",
    "# YOUR CODE HERE\n",
    "raise NotImplementedError()"
   ]
  },
  {
   "cell_type": "code",
   "execution_count": null,
   "metadata": {
    "deletable": false,
    "editable": false,
    "nbgrader": {
     "cell_type": "code",
     "checksum": "f93132db78a15bdf5067ccd74cd74268",
     "grade": true,
     "grade_id": "cell-3a647834467f7de7",
     "locked": true,
     "points": 2,
     "schema_version": 3,
     "solution": false
    }
   },
   "outputs": [],
   "source": [
    "# Teste aqui..."
   ]
  },
  {
   "cell_type": "markdown",
   "metadata": {
    "deletable": false,
    "editable": false,
    "nbgrader": {
     "cell_type": "markdown",
     "checksum": "09f433bd64478bd9f74db3212a0c65f5",
     "grade": false,
     "grade_id": "cell-9dad72a9ab687842",
     "locked": true,
     "schema_version": 3,
     "solution": false,
     "task": false
    }
   },
   "source": [
    "Agora, supondo que você tem acesso **apenas aos pontos errados** $(x_i, z_i)$,\n",
    "use-os como se fossem os valores do método de Simpson no intervalo $[-2,3]$.\n",
    "Qual a estimativa da integral que você obtém?"
   ]
  },
  {
   "cell_type": "code",
   "execution_count": null,
   "metadata": {
    "deletable": false,
    "nbgrader": {
     "cell_type": "code",
     "checksum": "d5e515504a07b2223eb0f3a873d9e6d2",
     "grade": false,
     "grade_id": "cell-9ab4136f6b3f5324",
     "locked": false,
     "schema_version": 3,
     "solution": true
    }
   },
   "outputs": [],
   "source": [
    "# Dê sua resposta na forma Iz_simp = ...\n",
    "# YOUR CODE HERE\n",
    "raise NotImplementedError()"
   ]
  },
  {
   "cell_type": "code",
   "execution_count": null,
   "metadata": {
    "deletable": false,
    "editable": false,
    "nbgrader": {
     "cell_type": "code",
     "checksum": "5102068169a4a95b6c977b9c15f56936",
     "grade": true,
     "grade_id": "cell-043f2c8fc4ddfcc6",
     "locked": true,
     "points": 2,
     "schema_version": 3,
     "solution": false
    }
   },
   "outputs": [],
   "source": [
    "# Teste aqui..."
   ]
  },
  {
   "cell_type": "markdown",
   "metadata": {
    "deletable": false,
    "editable": false,
    "nbgrader": {
     "cell_type": "markdown",
     "checksum": "c5a63dcd12fcfc67f8febf3192746897",
     "grade": false,
     "grade_id": "cell-dafb2399bb78b778",
     "locked": true,
     "schema_version": 3,
     "solution": false,
     "task": false
    }
   },
   "source": [
    "## Questão 8: Gráficos\n",
    "\n",
    "Faça o gráfico dos erros de interpolação para a função $f$,\n",
    "tanto para o polinômio interpolador com dados \"certos\" como para o polinômio gerado pelos dados com ruído."
   ]
  },
  {
   "cell_type": "code",
   "execution_count": null,
   "metadata": {
    "deletable": false,
    "nbgrader": {
     "cell_type": "code",
     "checksum": "e2ffb797fcf38cd4c1eb605e7a0e4fea",
     "grade": false,
     "grade_id": "cell-9d22a864a621dd46",
     "locked": false,
     "schema_version": 3,
     "solution": true
    }
   },
   "outputs": [],
   "source": [
    "# YOUR CODE HERE\n",
    "raise NotImplementedError()\n",
    "ax = plt.gca()\n",
    "plt.show()"
   ]
  },
  {
   "cell_type": "code",
   "execution_count": null,
   "metadata": {
    "deletable": false,
    "editable": false,
    "nbgrader": {
     "cell_type": "code",
     "checksum": "d5cdd5114eb16045629a13aa288948f9",
     "grade": true,
     "grade_id": "cell-14e0e08f744977bb",
     "locked": true,
     "points": 2,
     "schema_version": 3,
     "solution": false
    }
   },
   "outputs": [],
   "source": [
    "assert len(ax.lines) == 2\n",
    "assert len(ax.legend().texts) == 2\n",
    "\n",
    "for l in ax.lines:\n",
    "    xdata = l.get_xdata()\n",
    "    ydata = l.get_ydata()\n",
    "\n",
    "    assert min(xdata) == -2\n",
    "    assert max(xdata) ==  3\n",
    "\n",
    "    assert max(ydata) <=  40\n",
    "    assert min(ydata) >=  0"
   ]
  },
  {
   "cell_type": "code",
   "execution_count": null,
   "metadata": {
    "deletable": false,
    "editable": false,
    "nbgrader": {
     "cell_type": "code",
     "checksum": "8778487d547e18f05267a9a03e0eb6ba",
     "grade": false,
     "grade_id": "cell-362206520e78fd22",
     "locked": true,
     "schema_version": 3,
     "solution": false
    }
   },
   "outputs": [],
   "source": [
    "ax = None"
   ]
  },
  {
   "cell_type": "markdown",
   "metadata": {
    "deletable": false,
    "editable": false,
    "nbgrader": {
     "cell_type": "markdown",
     "checksum": "c532054b03bbb6d39f7a81ea0686f94a",
     "grade": false,
     "grade_id": "cell-e761e48217203169",
     "locked": true,
     "schema_version": 3,
     "solution": false,
     "task": false
    }
   },
   "source": [
    "Como o gráfico acima ajuda a explicar o erro de integração ao usar pontos com ruído?"
   ]
  },
  {
   "cell_type": "markdown",
   "metadata": {
    "deletable": false,
    "nbgrader": {
     "cell_type": "markdown",
     "checksum": "9e5aaf482ce23297b7dad5194fd8d0a3",
     "grade": true,
     "grade_id": "cell-606e115318f8c968",
     "locked": false,
     "points": 2,
     "schema_version": 3,
     "solution": true
    }
   },
   "source": [
    "YOUR ANSWER HERE"
   ]
  },
  {
   "cell_type": "markdown",
   "metadata": {
    "deletable": false,
    "editable": false,
    "nbgrader": {
     "cell_type": "markdown",
     "checksum": "81bee7431ec1c41efedb8312b697dc90",
     "grade": false,
     "grade_id": "cell-46b37aa7d10b5cfd",
     "locked": true,
     "schema_version": 3,
     "solution": false,
     "task": false
    }
   },
   "source": [
    "Faça o gráfico do erro de interpolação correspondente a usar o método de Simpson com os pontos $(x_i, z_i)$.\n",
    "\n",
    "Atenção: Observe que o método de Simpson irá formar polinômios diferentes em intervalos diferentes."
   ]
  },
  {
   "cell_type": "code",
   "execution_count": null,
   "metadata": {
    "deletable": false,
    "nbgrader": {
     "cell_type": "code",
     "checksum": "e94e1fd39873bbeed470a72041d9845d",
     "grade": true,
     "grade_id": "cell-486b0e6879dfb7f3",
     "locked": false,
     "points": 2,
     "schema_version": 3,
     "solution": true
    }
   },
   "outputs": [],
   "source": [
    "# YOUR CODE HERE\n",
    "raise NotImplementedError()\n",
    "ax = plt.gca()\n",
    "plt.show()"
   ]
  },
  {
   "cell_type": "code",
   "execution_count": null,
   "metadata": {
    "deletable": false,
    "editable": false,
    "nbgrader": {
     "cell_type": "code",
     "checksum": "2c6de3711a7a73a0f9243a993e76e9fe",
     "grade": true,
     "grade_id": "cell-b7ffa334d0cbdc4e",
     "locked": true,
     "points": 1,
     "schema_version": 3,
     "solution": false
    }
   },
   "outputs": [],
   "source": [
    "for l in ax.lines:\n",
    "    xdata = l.get_xdata()\n",
    "    ydata = l.get_ydata()\n",
    "\n",
    "    assert min(xdata) >= -2\n",
    "    assert max(xdata) <=  3\n",
    "\n",
    "    assert 0.01 <= max(ydata) <=  1\n",
    "    assert min(ydata) >=  0"
   ]
  },
  {
   "cell_type": "code",
   "execution_count": null,
   "metadata": {
    "deletable": false,
    "editable": false,
    "nbgrader": {
     "cell_type": "code",
     "checksum": "6685a3bb131f20555e166e7c28fc94b7",
     "grade": false,
     "grade_id": "cell-a191d55bee3f87a1",
     "locked": true,
     "schema_version": 3,
     "solution": false
    }
   },
   "outputs": [],
   "source": [
    "ax = None"
   ]
  },
  {
   "cell_type": "markdown",
   "metadata": {
    "deletable": false,
    "editable": false,
    "nbgrader": {
     "cell_type": "markdown",
     "checksum": "34b502c9018f3c4b614e3e2aa337efa1",
     "grade": false,
     "grade_id": "cell-f95f6c5cc66f983d",
     "locked": true,
     "schema_version": 3,
     "solution": false,
     "task": false
    }
   },
   "source": [
    "## Questão 9: Regressão\n",
    "\n",
    "Agora, vamos usar 21 pontos para ajustar um polinômio de grau 10.\n",
    "Qual a estimativa da integral tanto para os pontos \"certos\" como para os pontos \"com erro\"?"
   ]
  },
  {
   "cell_type": "code",
   "execution_count": null,
   "metadata": {
    "deletable": false,
    "nbgrader": {
     "cell_type": "code",
     "checksum": "84831f1f2879b39a7d09d5f9ff03d7de",
     "grade": false,
     "grade_id": "cell-823a1826f2547c5a",
     "locked": false,
     "schema_version": 3,
     "solution": true
    }
   },
   "outputs": [],
   "source": [
    "def regres_coefs(xs, ys, deg):\n",
    "    \"\"\"Calcula os coeficientes da regressão polinomial. \"\"\"\n",
    "    assert len(xs) == len(ys)\n",
    "    assert len(xs) > deg\n",
    "    # YOUR CODE HERE\n",
    "    raise NotImplementedError()"
   ]
  },
  {
   "cell_type": "code",
   "execution_count": null,
   "metadata": {
    "deletable": false,
    "nbgrader": {
     "cell_type": "code",
     "checksum": "25a9d6876af73400d2d98c9bc705c0c1",
     "grade": false,
     "grade_id": "cell-14624e0adb5ea6ac",
     "locked": false,
     "schema_version": 3,
     "solution": true
    }
   },
   "outputs": [],
   "source": [
    "### Dê a resposta na forma\n",
    "#   I_certos = ...\n",
    "#   I_ruidos = ...\n",
    "# YOUR CODE HERE\n",
    "raise NotImplementedError()"
   ]
  },
  {
   "cell_type": "code",
   "execution_count": null,
   "metadata": {
    "deletable": false,
    "editable": false,
    "nbgrader": {
     "cell_type": "code",
     "checksum": "76945ba1c6bfe467c423f1981ccc3b9e",
     "grade": true,
     "grade_id": "cell-30b58fca7fc69423",
     "locked": true,
     "points": 2,
     "schema_version": 3,
     "solution": false
    }
   },
   "outputs": [],
   "source": [
    "assert np.isclose(I_certos, -0.96, atol=1e-1, rtol=1e-1)\n",
    "assert np.isclose(I_ruidos, -1.06, atol=1e-1, rtol=1e-1)"
   ]
  },
  {
   "cell_type": "markdown",
   "metadata": {
    "deletable": false,
    "editable": false,
    "nbgrader": {
     "cell_type": "markdown",
     "checksum": "895a318e707706ebf8a5c1181fa9a891",
     "grade": false,
     "grade_id": "cell-135de68e51146aa2",
     "locked": true,
     "schema_version": 3,
     "solution": false,
     "task": false
    }
   },
   "source": [
    "Mantendo o uso dos 21 pontos, varie o grau de regressão entre 0 e 18,\n",
    "e faça um gráfico do erro de itegração tanto para o uso dos pontos corretos como dos pontos com ruído."
   ]
  },
  {
   "cell_type": "code",
   "execution_count": null,
   "metadata": {
    "deletable": false,
    "nbgrader": {
     "cell_type": "code",
     "checksum": "67b5e101b6ae12432c2f8ad5264365b0",
     "grade": false,
     "grade_id": "cell-8303b3b0d0a75d6b",
     "locked": false,
     "schema_version": 3,
     "solution": true
    }
   },
   "outputs": [],
   "source": [
    "# YOUR CODE HERE\n",
    "raise NotImplementedError()\n",
    "ax = plt.gca()\n",
    "plt.show()"
   ]
  },
  {
   "cell_type": "code",
   "execution_count": null,
   "metadata": {
    "deletable": false,
    "editable": false,
    "nbgrader": {
     "cell_type": "code",
     "checksum": "32250919b48fa34a55823d75f7461834",
     "grade": true,
     "grade_id": "cell-72a5b75b30b478f0",
     "locked": true,
     "points": 2,
     "schema_version": 3,
     "solution": false
    }
   },
   "outputs": [],
   "source": [
    "assert len(ax.lines) == 2\n",
    "assert len(ax.legend().texts) == 2\n",
    "\n",
    "for l in ax.lines:\n",
    "    xdata = l.get_xdata()\n",
    "    ydata = l.get_ydata()\n",
    "\n",
    "    assert min(xdata) ==  0\n",
    "    assert max(xdata) == 18\n",
    "\n",
    "    assert max(ydata) <=  200\n",
    "    assert min(ydata) >=  0"
   ]
  },
  {
   "cell_type": "markdown",
   "metadata": {
    "deletable": false,
    "editable": false,
    "nbgrader": {
     "cell_type": "markdown",
     "checksum": "b5d37362b4c046c99c01a947121dbe2c",
     "grade": false,
     "grade_id": "cell-a422cedf632a9a0a",
     "locked": true,
     "schema_version": 3,
     "solution": false,
     "task": false
    }
   },
   "source": [
    "- Como o erro se comporta ao aumentar o grau, para cada método?\n",
    "- Como interpretar o erro da integral ao usar uma regressão de grau zero?"
   ]
  },
  {
   "cell_type": "markdown",
   "metadata": {
    "deletable": false,
    "nbgrader": {
     "cell_type": "markdown",
     "checksum": "0772880a65f233654403e270f2f3db86",
     "grade": true,
     "grade_id": "cell-ad148db5ad08fb98",
     "locked": false,
     "points": 3,
     "schema_version": 3,
     "solution": true
    }
   },
   "source": [
    "YOUR ANSWER HERE"
   ]
  },
  {
   "cell_type": "markdown",
   "metadata": {
    "deletable": false,
    "editable": false,
    "nbgrader": {
     "cell_type": "markdown",
     "checksum": "f50cd69224f1b20de9d65f562b887b4a",
     "grade": false,
     "grade_id": "cell-daad2a668b57e235",
     "locked": true,
     "schema_version": 3,
     "solution": false,
     "task": false
    }
   },
   "source": [
    "Agora, divida os 21 pontos em dois blocos de 11 (o do meio aparece nos dois!),\n",
    "e ajuste dois polinômios, um para cada lado do intervalo de integração.\n",
    "Novamente, faça o gráfico comparando o erro cometido ao usar os pontos certos e os com ruído,\n",
    "em função do grau de interpolação."
   ]
  },
  {
   "cell_type": "code",
   "execution_count": null,
   "metadata": {
    "deletable": false,
    "nbgrader": {
     "cell_type": "code",
     "checksum": "412aab3d3175d23635367768ebf4fbc5",
     "grade": false,
     "grade_id": "cell-408a2145460ab615",
     "locked": false,
     "schema_version": 3,
     "solution": true
    }
   },
   "outputs": [],
   "source": [
    "# YOUR CODE HERE\n",
    "raise NotImplementedError()\n",
    "ax = plt.gca()\n",
    "plt.show()"
   ]
  },
  {
   "cell_type": "code",
   "execution_count": null,
   "metadata": {
    "deletable": false,
    "editable": false,
    "nbgrader": {
     "cell_type": "code",
     "checksum": "6e910db145dbfdf8943c1aaf61985e98",
     "grade": true,
     "grade_id": "cell-6e8fbcd7332260ba",
     "locked": true,
     "points": 2,
     "schema_version": 3,
     "solution": false
    }
   },
   "outputs": [],
   "source": [
    "assert len(ax.lines) == 2\n",
    "assert len(ax.legend().texts) == 2\n",
    "\n",
    "for l in ax.lines:\n",
    "    xdata = l.get_xdata()\n",
    "    ydata = l.get_ydata()\n",
    "\n",
    "    assert min(xdata) ==  0\n",
    "    assert max(xdata) <= 10\n",
    "\n",
    "    assert max(ydata) <=  2\n",
    "    assert min(ydata) >=  0"
   ]
  },
  {
   "cell_type": "code",
   "execution_count": null,
   "metadata": {
    "deletable": false,
    "editable": false,
    "nbgrader": {
     "cell_type": "code",
     "checksum": "5eb4952ab860dec9129ebb845995b277",
     "grade": false,
     "grade_id": "cell-7ea311e06a38d1c8",
     "locked": true,
     "schema_version": 3,
     "solution": false
    }
   },
   "outputs": [],
   "source": [
    "ax = None"
   ]
  },
  {
   "cell_type": "markdown",
   "metadata": {
    "deletable": false,
    "editable": false,
    "nbgrader": {
     "cell_type": "markdown",
     "checksum": "771cb497cb32c61f01eac94b13ac0ab9",
     "grade": false,
     "grade_id": "cell-fc4f41aa75e70a78",
     "locked": true,
     "schema_version": 3,
     "solution": false,
     "task": false
    }
   },
   "source": [
    "## Questão 10: \"Amostragem\"\n",
    "\n",
    "De maneira mais geral, o ruído que adicionamos a `ys` para formar o vetor `zs` poderia ter sido outro,\n",
    "por exemplo variando a semente do gerador aleatório, sem mudar a \"amplitude\".\n",
    "\n",
    "Faça, agora, o gráfico do erro de integração, para regressões de grau 0 a 18,\n",
    "usando 6 amostras diferentes para `zs`,\n",
    "e compare com o decaimento dos erros quando não há ruídos."
   ]
  },
  {
   "cell_type": "code",
   "execution_count": null,
   "metadata": {
    "deletable": false,
    "nbgrader": {
     "cell_type": "code",
     "checksum": "dc36969a9ad673036837cc7a5004cca8",
     "grade": true,
     "grade_id": "cell-c0feab8e5b2558f5",
     "locked": false,
     "points": 2,
     "schema_version": 3,
     "solution": true
    }
   },
   "outputs": [],
   "source": [
    "np.random.seed(123)\n",
    "\n",
    "# YOUR CODE HERE\n",
    "raise NotImplementedError()\n",
    "\n",
    "plt.legend(bbox_to_anchor=(1.0, 0.5), loc=\"center left\")\n",
    "ax = plt.gca()\n",
    "plt.show()"
   ]
  },
  {
   "cell_type": "markdown",
   "metadata": {
    "deletable": false,
    "editable": false,
    "nbgrader": {
     "cell_type": "markdown",
     "checksum": "6cdcd1f7bb40448a9e3010d7d6bf2c70",
     "grade": false,
     "grade_id": "cell-ac5d0aca696a95d3",
     "locked": true,
     "schema_version": 3,
     "solution": false,
     "task": false
    }
   },
   "source": [
    "- O que você observa aqui?\n",
    "- Qual ordem de regressão você escolheria, sem saber qual vai ser a realização do ruído?\n",
    "- Porquê?"
   ]
  },
  {
   "cell_type": "markdown",
   "metadata": {
    "deletable": false,
    "nbgrader": {
     "cell_type": "markdown",
     "checksum": "62cdb509df268b111dee16f77e5b0958",
     "grade": true,
     "grade_id": "cell-f367fb6d393f2255",
     "locked": false,
     "points": 3,
     "schema_version": 3,
     "solution": true
    }
   },
   "source": [
    "YOUR ANSWER HERE"
   ]
  }
 ],
 "metadata": {
  "kernelspec": {
   "display_name": "Python 3",
   "language": "python",
   "name": "python3"
  },
  "language_info": {
   "codemirror_mode": {
    "name": "ipython",
    "version": 3
   },
   "file_extension": ".py",
   "mimetype": "text/x-python",
   "name": "python",
   "nbconvert_exporter": "python",
   "pygments_lexer": "ipython3",
   "version": "3.8.3"
  }
 },
 "nbformat": 4,
 "nbformat_minor": 2
}
